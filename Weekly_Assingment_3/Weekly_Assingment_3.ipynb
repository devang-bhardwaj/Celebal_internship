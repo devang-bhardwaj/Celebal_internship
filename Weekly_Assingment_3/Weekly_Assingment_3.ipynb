{
 "cells": [
  {
   "cell_type": "code",
   "execution_count": null,
   "id": "e8530d9b",
   "metadata": {
    "vscode": {
     "languageId": "plaintext"
    }
   },
   "outputs": [],
   "source": [
    "import pandas as pd\n",
    "import numpy as np\n",
    "import matplotlib.pyplot as plt\n",
    "import seaborn as sns"
   ]
  },
  {
   "cell_type": "markdown",
   "id": "17f80820",
   "metadata": {},
   "source": [
    "# Set visualization styles"
   ]
  },
  {
   "cell_type": "code",
   "execution_count": null,
   "id": "6c791d39",
   "metadata": {
    "vscode": {
     "languageId": "plaintext"
    }
   },
   "outputs": [],
   "source": [
    "plt.style.use('seaborn-v0_8-whitegrid')\n",
    "sns.set_palette(\"viridis\")\n",
    "plt.rcParams['figure.figsize'] = (12, 7)"
   ]
  },
  {
   "cell_type": "markdown",
   "id": "d0cf9fad",
   "metadata": {},
   "source": [
    "# Load the dataset"
   ]
  },
  {
   "cell_type": "code",
   "execution_count": null,
   "id": "c0543fb3",
   "metadata": {
    "vscode": {
     "languageId": "plaintext"
    }
   },
   "outputs": [],
   "source": [
    "df = pd.read_csv(\"Weekly_Assingment_3/global_ai_jobs_market_trends.csv\")"
   ]
  },
  {
   "cell_type": "markdown",
   "id": "f72d4088",
   "metadata": {},
   "source": [
    "# 1. Job Role Distribution - Horizontal Bar Chart\n"
   ]
  },
  {
   "cell_type": "code",
   "execution_count": null,
   "id": "f4882a63",
   "metadata": {
    "vscode": {
     "languageId": "plaintext"
    }
   },
   "outputs": [],
   "source": [
    "plt.figure(figsize=(12, 8))\n",
    "role_counts = df['Job Role'].value_counts()\n",
    "colors = sns.color_palette(\"viridis\", len(role_counts))\n",
    "ax = sns.barplot(x=role_counts.values, y=role_counts.index, palette=colors)\n",
    "plt.title('Distribution of AI Job Roles', fontsize=16)\n",
    "plt.xlabel('Number of Positions', fontsize=12)\n",
    "for i, v in enumerate(role_counts.values):\n",
    "    ax.text(v + 0.5, i, str(v), va='center')\n",
    "plt.tight_layout()\n",
    "plt.savefig('job_roles_distribution.png', dpi=300, bbox_inches='tight')\n",
    "plt.close()"
   ]
  },
  {
   "cell_type": "markdown",
   "id": "09d3269a",
   "metadata": {},
   "source": [
    "# 2. Salary Distribution - Histogram with KDE\n"
   ]
  },
  {
   "cell_type": "code",
   "execution_count": null,
   "id": "dec93a5f",
   "metadata": {
    "vscode": {
     "languageId": "plaintext"
    }
   },
   "outputs": [],
   "source": [
    "plt.figure(figsize=(12, 7))\n",
    "sns.histplot(df['Salary (USD)'], kde=True, bins=30, color='purple', alpha=0.7)\n",
    "plt.axvline(df['Salary (USD)'].mean(), color='red', linestyle='--', \n",
    "            label=f'Mean: ${df[\"Salary (USD)\"].mean():,.0f}')\n",
    "plt.axvline(df['Salary (USD)'].median(), color='green', linestyle='--', \n",
    "            label=f'Median: ${df[\"Salary (USD)\"].median():,.0f}')\n",
    "plt.title('Salary Distribution in AI Jobs', fontsize=16)\n",
    "plt.xlabel('Annual Salary (USD)', fontsize=12)\n",
    "plt.ylabel('Frequency', fontsize=12)\n",
    "plt.legend()\n",
    "plt.tight_layout()\n",
    "plt.savefig('salary_distribution.png', dpi=300, bbox_inches='tight')\n",
    "plt.close()"
   ]
  },
  {
   "cell_type": "markdown",
   "id": "e4b8d851",
   "metadata": {},
   "source": [
    "# 3. Top Locations - Colorful Bar Chart\n"
   ]
  },
  {
   "cell_type": "code",
   "execution_count": null,
   "id": "79fcb8a9",
   "metadata": {
    "vscode": {
     "languageId": "plaintext"
    }
   },
   "outputs": [],
   "source": [
    "plt.figure(figsize=(14, 8))\n",
    "location_counts = df['Location'].value_counts().head(15)\n",
    "colors = sns.color_palette(\"plasma\", len(location_counts))\n",
    "ax = sns.barplot(x=location_counts.index, y=location_counts.values, palette=colors)\n",
    "plt.title('Top 15 Locations for AI Jobs', fontsize=16)\n",
    "plt.xlabel('Location', fontsize=12)\n",
    "plt.ylabel('Number of Jobs', fontsize=12)\n",
    "plt.xticks(rotation=45, ha='right')\n",
    "for i, v in enumerate(location_counts.values):\n",
    "    ax.text(i, v + 1, str(v), ha='center')\n",
    "plt.tight_layout()\n",
    "plt.savefig('top_locations.png', dpi=300, bbox_inches='tight')\n",
    "plt.close()"
   ]
  },
  {
   "cell_type": "markdown",
   "id": "a65ee5e6",
   "metadata": {},
   "source": [
    "# 4. Salary by Job Role - Box Plot\n"
   ]
  },
  {
   "cell_type": "code",
   "execution_count": null,
   "id": "a70202e5",
   "metadata": {
    "vscode": {
     "languageId": "plaintext"
    }
   },
   "outputs": [],
   "source": [
    "plt.figure(figsize=(14, 8))\n",
    "order = df.groupby('Job Role')['Salary (USD)'].median().sort_values(ascending=False).index\n",
    "sns.boxplot(x='Job Role', y='Salary (USD)', data=df, palette='Set3', order=order)\n",
    "plt.title('Salary Distribution by Job Role', fontsize=16)\n",
    "plt.xlabel('Job Role', fontsize=12)\n",
    "plt.ylabel('Salary (USD)', fontsize=12)\n",
    "plt.xticks(rotation=45, ha='right')\n",
    "plt.tight_layout()\n",
    "plt.savefig('salary_by_role.png', dpi=300, bbox_inches='tight')\n",
    "plt.close()"
   ]
  },
  {
   "cell_type": "markdown",
   "id": "644c7a9f",
   "metadata": {},
   "source": [
    "# 5. Experience vs Salary - Scatter Plot with Trend Line\n"
   ]
  },
  {
   "cell_type": "code",
   "execution_count": null,
   "id": "1b5bb31a",
   "metadata": {
    "vscode": {
     "languageId": "plaintext"
    }
   },
   "outputs": [],
   "source": [
    "plt.figure(figsize=(12, 8))\n",
    "sns.scatterplot(x='Years of Experience', y='Salary (USD)', data=df, \n",
    "                hue='Job Role', size='Years of Experience', sizes=(50, 200), alpha=0.7)\n",
    "sns.regplot(x='Years of Experience', y='Salary (USD)', data=df, \n",
    "            scatter=False, line_kws={\"color\": \"red\", \"alpha\": 0.7, \"lw\": 2})\n",
    "plt.title('Experience vs Salary Correlation', fontsize=16)\n",
    "plt.xlabel('Years of Experience', fontsize=12)\n",
    "plt.ylabel('Salary (USD)', fontsize=12)\n",
    "plt.legend(bbox_to_anchor=(1.02, 1), loc='upper left')\n",
    "plt.tight_layout()\n",
    "plt.savefig('experience_vs_salary.png', dpi=300, bbox_inches='tight')\n",
    "plt.close()"
   ]
  },
  {
   "cell_type": "markdown",
   "id": "0ab835f0",
   "metadata": {},
   "source": [
    "# 6. Company Size and Salary - Violin Plot\n"
   ]
  },
  {
   "cell_type": "code",
   "execution_count": null,
   "id": "695b915f",
   "metadata": {
    "vscode": {
     "languageId": "plaintext"
    }
   },
   "outputs": [],
   "source": [
    "plt.figure(figsize=(14, 8))\n",
    "sns.violinplot(x='Company Size', y='Salary (USD)', data=df, palette='Blues')\n",
    "plt.title('Salary Distribution by Company Size', fontsize=16)\n",
    "plt.xlabel('Company Size', fontsize=12)\n",
    "plt.ylabel('Salary (USD)', fontsize=12)\n",
    "plt.tight_layout()\n",
    "plt.savefig('company_size_salary.png', dpi=300, bbox_inches='tight')\n",
    "plt.close()"
   ]
  },
  {
   "cell_type": "markdown",
   "id": "76919c11",
   "metadata": {},
   "source": [
    "# 7. Job Roles by Company Size - Stacked Bar Chart\n"
   ]
  },
  {
   "cell_type": "code",
   "execution_count": null,
   "id": "45656a55",
   "metadata": {
    "vscode": {
     "languageId": "plaintext"
    }
   },
   "outputs": [],
   "source": [
    "plt.figure(figsize=(14, 8))\n",
    "role_size = pd.crosstab(df['Company Size'], df['Job Role'])\n",
    "role_size_percent = role_size.div(role_size.sum(axis=1), axis=0) * 100\n",
    "role_size_percent.plot(kind='bar', stacked=True, colormap='viridis')\n",
    "plt.title('Job Roles Distribution by Company Size', fontsize=16)\n",
    "plt.xlabel('Company Size', fontsize=12)\n",
    "plt.ylabel('Percentage', fontsize=12)\n",
    "plt.legend(title='Job Role', bbox_to_anchor=(1.02, 1), loc='upper left')\n",
    "plt.tight_layout()\n",
    "plt.savefig('roles_by_company_size.png', dpi=300, bbox_inches='tight')\n",
    "plt.close()"
   ]
  },
  {
   "cell_type": "markdown",
   "id": "90af19e7",
   "metadata": {},
   "source": [
    "# 8. Top Skills (if available) - Horizontal Bar Chart"
   ]
  },
  {
   "cell_type": "code",
   "execution_count": null,
   "id": "bf89d68b",
   "metadata": {
    "vscode": {
     "languageId": "plaintext"
    }
   },
   "outputs": [],
   "source": [
    "if 'Required Skills' in df.columns:\n",
    "    all_skills = []\n",
    "    for skills in df['Required Skills'].dropna():\n",
    "        all_skills.extend([skill.strip() for skill in skills.split(',')])\n",
    "    \n",
    "    skills_df = pd.DataFrame({'Skill': all_skills})\n",
    "    skill_counts = skills_df['Skill'].value_counts().head(15)\n",
    "    \n",
    "    plt.figure(figsize=(12, 10))\n",
    "    colors = sns.color_palette(\"magma\", len(skill_counts))\n",
    "    ax = sns.barplot(x=skill_counts.values, y=skill_counts.index, palette=colors)\n",
    "    plt.title('Top 15 Required Skills in AI Jobs', fontsize=16)\n",
    "    plt.xlabel('Count', fontsize=12)\n",
    "    for i, v in enumerate(skill_counts.values):\n",
    "        ax.text(v + 0.5, i, str(v), va='center')\n",
    "    plt.tight_layout()\n",
    "    plt.savefig('top_skills.png', dpi=300, bbox_inches='tight')\n",
    "    plt.close()"
   ]
  },
  {
   "cell_type": "markdown",
   "id": "18698ca5",
   "metadata": {},
   "source": [
    "# 9. Salary by Location - Beautiful Swarm Plot\n"
   ]
  },
  {
   "cell_type": "code",
   "execution_count": null,
   "id": "7f98b7b4",
   "metadata": {
    "vscode": {
     "languageId": "plaintext"
    }
   },
   "outputs": [],
   "source": [
    "plt.figure(figsize=(14, 10))\n",
    "top_locations = df['Location'].value_counts().head(10).index\n",
    "location_df = df[df['Location'].isin(top_locations)]\n",
    "sns.swarmplot(x='Salary (USD)', y='Location', data=location_df, palette='plasma', size=8)\n",
    "plt.title('Salary Distribution in Top 10 Locations', fontsize=16)\n",
    "plt.xlabel('Salary (USD)', fontsize=12)\n",
    "plt.ylabel('Location', fontsize=12)\n",
    "plt.tight_layout()\n",
    "plt.savefig('salary_by_location_swarm.png', dpi=300, bbox_inches='tight')\n",
    "plt.close()"
   ]
  },
  {
   "cell_type": "markdown",
   "id": "3df38d2e",
   "metadata": {},
   "source": [
    "# 10. Experience by Job Role - Grouped Box Plot\n"
   ]
  },
  {
   "cell_type": "code",
   "execution_count": null,
   "id": "346281b9",
   "metadata": {
    "vscode": {
     "languageId": "plaintext"
    }
   },
   "outputs": [],
   "source": [
    "plt.figure(figsize=(14, 8))\n",
    "sns.boxplot(x='Job Role', y='Years of Experience', data=df, palette='Set2')\n",
    "plt.title('Experience Distribution by Job Role', fontsize=16)\n",
    "plt.xlabel('Job Role', fontsize=12)\n",
    "plt.ylabel('Years of Experience', fontsize=12)\n",
    "plt.xticks(rotation=45, ha='right')\n",
    "plt.tight_layout()\n",
    "plt.savefig('experience_by_role.png', dpi=300, bbox_inches='tight')\n",
    "plt.close()"
   ]
  },
  {
   "cell_type": "code",
   "execution_count": null,
   "id": "731bdbef",
   "metadata": {
    "vscode": {
     "languageId": "plaintext"
    }
   },
   "outputs": [],
   "source": [
    "print(\"Visualizations completed and saved successfully!\")"
   ]
  }
 ],
 "metadata": {
  "language_info": {
   "name": "python"
  }
 },
 "nbformat": 4,
 "nbformat_minor": 5
}
